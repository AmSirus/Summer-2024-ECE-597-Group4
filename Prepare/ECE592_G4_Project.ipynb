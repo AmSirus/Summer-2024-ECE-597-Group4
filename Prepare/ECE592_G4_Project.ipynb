{
 "cells": [
  {
   "cell_type": "code",
   "execution_count": 43,
   "metadata": {},
   "outputs": [],
   "source": [
    "import numpy as np\n",
    "import pandas as pd\n",
    "import matplotlib.pyplot as plt\n",
    "%matplotlib inline"
   ]
  },
  {
   "cell_type": "markdown",
   "metadata": {},
   "source": [
    "## 1. Data Info"
   ]
  },
  {
   "cell_type": "code",
   "execution_count": 44,
   "metadata": {},
   "outputs": [],
   "source": [
    "df = pd.read_csv('emails.csv')\n",
    "df2 = pd.read_csv('.\\CaptstoneProjectData_2024.csv')"
   ]
  },
  {
   "cell_type": "code",
   "execution_count": 45,
   "metadata": {},
   "outputs": [
    {
     "name": "stdout",
     "output_type": "stream",
     "text": [
      "                       file                                            message\n",
      "0     allen-p/_sent_mail/1.  Message-ID: <18782981.1075855378110.JavaMail.e...\n",
      "1    allen-p/_sent_mail/10.  Message-ID: <15464986.1075855378456.JavaMail.e...\n",
      "2   allen-p/_sent_mail/100.  Message-ID: <24216240.1075855687451.JavaMail.e...\n",
      "3  allen-p/_sent_mail/1000.  Message-ID: <13505866.1075863688222.JavaMail.e...\n",
      "4  allen-p/_sent_mail/1001.  Message-ID: <30922949.1075863688243.JavaMail.e...\n",
      "\n",
      "\n",
      "<class 'pandas.core.frame.DataFrame'>\n",
      "RangeIndex: 517401 entries, 0 to 517400\n",
      "Data columns (total 2 columns):\n",
      " #   Column   Non-Null Count   Dtype \n",
      "---  ------   --------------   ----- \n",
      " 0   file     517401 non-null  object\n",
      " 1   message  517401 non-null  object\n",
      "dtypes: object(2)\n",
      "memory usage: 7.9+ MB\n",
      "None\n",
      "\n",
      "\n",
      "Message-ID: <20641191.1075855687472.JavaMail.evans@thyme>\n",
      "Date: Tue, 17 Oct 2000 02:26:00 -0700 (PDT)\n",
      "From: phillip.allen@enron.com\n",
      "To: mark.scott@enron.com\n",
      "Subject: Re: High Speed Internet Access\n",
      "Mime-Version: 1.0\n",
      "Content-Type: text/plain; charset=us-ascii\n",
      "Content-Transfer-Encoding: 7bit\n",
      "X-From: Phillip K Allen\n",
      "X-To: Mark Scott\n",
      "X-cc: \n",
      "X-bcc: \n",
      "X-Folder: \\Phillip_Allen_Dec2000\\Notes Folders\\'sent mail\n",
      "X-Origin: Allen-P\n",
      "X-FileName: pallen.nsf\n",
      "\n",
      "1. login:  pallen pw: ke9davis\n",
      "\n",
      " I don't think these are required by the ISP \n",
      "\n",
      "  2.  static IP address\n",
      "\n",
      " IP: 64.216.90.105\n",
      " Sub: 255.255.255.248\n",
      " gate: 64.216.90.110\n",
      " DNS: 151.164.1.8\n",
      "\n",
      "  3.  Company: 0413\n",
      "        RC:  105891\n"
     ]
    }
   ],
   "source": [
    "print(df.head())\n",
    "print(\"\\n\")\n",
    "print(df.info())\n",
    "print(\"\\n\")\n",
    "print(df['message'][8])"
   ]
  },
  {
   "cell_type": "code",
   "execution_count": 46,
   "metadata": {},
   "outputs": [
    {
     "name": "stdout",
     "output_type": "stream",
     "text": [
      "                                             Subject  \\\n",
      "0  ®Review your shipment details / Shipment Notif...   \n",
      "1                            Υоur ассоunt іѕ оn hоld   \n",
      "2  Completed: Invoice # KZ89TYS2564 from-Bestbuy....   \n",
      "3                             UVic IMPORTANT NOTICE!   \n",
      "4          You have (6) Suspended incoming messages    \n",
      "\n",
      "                                                Body  Unnamed: 2  Unnamed: 3  \n",
      "0  Notice: This message was sent from outside the...         NaN         NaN  \n",
      "1  \\r\\nVotre réponse a bien été prise en compte.\\...         NaN         NaN  \n",
      "2  Notice: This message was sent from outside the...         NaN         NaN  \n",
      "3  Your UVIC account has been filed under the lis...         NaN         NaN  \n",
      "4  \\r\\n\\r\\nMessage generated from  uvic.ca source...         NaN         NaN  \n",
      "\n",
      "\n",
      "<class 'pandas.core.frame.DataFrame'>\n",
      "RangeIndex: 2576 entries, 0 to 2575\n",
      "Data columns (total 4 columns):\n",
      " #   Column      Non-Null Count  Dtype  \n",
      "---  ------      --------------  -----  \n",
      " 0   Subject     2467 non-null   object \n",
      " 1   Body        2571 non-null   object \n",
      " 2   Unnamed: 2  0 non-null      float64\n",
      " 3   Unnamed: 3  0 non-null      float64\n",
      "dtypes: float64(2), object(2)\n",
      "memory usage: 80.6+ KB\n",
      "None\n",
      "\n",
      "\n",
      "Notice: This message was sent from outside the University of Victoria email system. Please be cautious with links and sensitive information.\n",
      "\n",
      "\n",
      "        [DocuSign]\n",
      "[https://NA4.docusign.net/member/Images/email/docComplete-white.png]\n",
      "Your document has been completed\n",
      "VIEW COMPLETED DOCUMENT <https://na4.docusign.net/Member/EmailStart.aspx?a=4fc2b481-9617-4897-a2a7-6e39e96782bb&r=fd808229-1992-4c80-9c45-867cb0f02252>\n",
      "\n",
      "\n",
      "\n",
      "Best Buy\n",
      "auwaluu.ma.r.bu.ba@googlemail.com\n",
      "\n",
      "All parties have completed Invoice # KZ89TYS2564 from-Bestbuy.com &#43;1.813.776.1410.\n",
      "\n",
      "Dear Customer,\n",
      "\n",
      "Your invoice for 359.99 USD is attached towards renewal of 3 years Subscription.\n",
      "\n",
      "Customer Service for the USA &amp; Canada &#43;1.813.776.1410\n",
      "\n",
      "My Best Buy Total™ - 2 Years Membership (Amount: 359.99 USD, Quantity: 1)\n",
      "Total: $359.99\n",
      "\n",
      "Thank you for your business - we appreciate it very much.\n",
      "\n",
      "Sincerely,\n",
      "Bestbuy.com &#43;1.813.776.1410\n",
      "\n",
      "Do Not Share This Email\n",
      "This email contains a secure link to DocuSign. Please do not share this email, link, or access code with others.\n",
      "\n",
      "\n",
      "Alternate Signing Method\n",
      "Visit DocuSign.com, click 'Access Documents', and enter the security code:\n",
      "4FC2B48196174897A2A76E39E96782BB7\n",
      "\n",
      "About DocuSign\n",
      "Sign documents electronically in just minutes. It's safe, secure, and legally binding. Whether you're in an office, at home, on-the-go -- or even across the globe -- DocuSign provides a professional trusted solution for Digital Transaction Management™.\n",
      "\n",
      "Questions about the Document?\n",
      "If you need to modify the document or have questions about the details in the document, please reach out to the sender by emailing them directly.\n",
      "\n",
      "Stop receiving this email\n",
      "Report this email<https://protect.docusign.net/report-abuse?e=AUtomjpFak9GlbPL0zFFi11e-C-KUkbeAbMM9_pqiE2usDQPhD2jQokWruW1tvo4iAD5IHZnQRcWK1ejZoI49AdjLk_lCwNTkycJk678JUxEJBkU2f3zdzJCndBCewAsuC3TNot22FLpVH15D-Ko0LV6rT8MFffP8NGayX63xM8WjL7Te7pzA4Amb3vfKiSLGucp9JslArKxMNf739ZLrp8C1XMBQ9hFtp_U1eZVrqize9DB13NQETOx8on7ft5Urj-KnPBVaWQXyjGJO72A5agakaJUIIqU5NCgwqwwIVhguHE4tfyAgmVIajkIHNEnLRdFpANPUWlmJUF9XUTVm4MdYGkGvPGeRozBoysyHROgjDB1gLbwh9zEGllDPb1Wz_rfaXI84iyZrjwKr7bLQP1htJqZQbtlnOT8INY8jb2GyRd1yifnImunVeD88vNCRg&lang=en> or read more about Declining to sign<https://support.docusign.com/en/guides/Declining-to-sign-DocuSign-Signer-Guide> and Managing notifications<https://support.docusign.com/en/articles/How-do-I-manage-my-email-notifications>.\n",
      "\n",
      "If you are having trouble signing the document, please visit the Help with Signing<https://support.docusign.com/s/articles/How-do-I-sign-a-DocuSign-document-Basic-Signing?language=en_US&utm_campaign=GBL_XX_DBU_UPS_2211_SignNotificationEmailFooter&utm_medium=product&utm_source=postsend> page on our Support Center<https://www.docusign.com/support>.\n",
      "\n",
      "\n",
      "\n",
      "[https://NA4.docusign.net/Member/Images/email/icon-DownloadApp-18x18@2x.png]Download the DocuSign App <https://www.docusign.com/features-and-benefits/mobile?utm_campaign=GBL_XX_DBU_UPS_2211_SignNotificationEmailFooter&utm_medium=product&utm_source=postsend>\n",
      "\n",
      "This message was sent to you by Best Buy who is using the DocuSign Electronic Signature Service. If you would rather not receive email from this sender you may contact the sender with your request.\n",
      "\n",
      "\n"
     ]
    }
   ],
   "source": [
    "print(df2.head())\n",
    "print(\"\\n\")\n",
    "print(df2.info())\n",
    "print(\"\\n\")\n",
    "print(df2['Body'][2])"
   ]
  },
  {
   "cell_type": "markdown",
   "metadata": {},
   "source": [
    "## 2. Data Cleaning\n",
    "After the comparison, only the body and subject of the normal mail datasets should be retained."
   ]
  },
  {
   "cell_type": "code",
   "execution_count": 47,
   "metadata": {},
   "outputs": [],
   "source": [
    "def get_message(Series: pd.Series):\n",
    "    result = pd.Series(index=Series.index)\n",
    "    for row, message in enumerate(Series):\n",
    "        message_words = message.split('\\n')\n",
    "        del message_words[:15]\n",
    "        result.iloc[row] = ''.join(message_words).strip()\n",
    "    return result\n",
    "\n",
    "def get_subject(Series: pd.Series):\n",
    "    result = pd.Series(index = Series.index)\n",
    "    for row, message in enumerate(Series):\n",
    "        message_words = message.split('\\n')\n",
    "        message_words = message_words[4]\n",
    "        result[row] = message_words.replace('Subject: ', '')\n",
    "    return result"
   ]
  },
  {
   "cell_type": "code",
   "execution_count": 48,
   "metadata": {},
   "outputs": [
    {
     "name": "stderr",
     "output_type": "stream",
     "text": [
      "C:\\Users\\cruel\\AppData\\Local\\Temp\\ipykernel_15980\\1745844638.py:14: FutureWarning: Setting an item of incompatible dtype is deprecated and will raise in a future error of pandas. Value '' has dtype incompatible with float64, please explicitly cast to a compatible dtype first.\n",
      "  result[row] = message_words.replace('Subject: ', '')\n",
      "C:\\Users\\cruel\\AppData\\Local\\Temp\\ipykernel_15980\\1745844638.py:6: FutureWarning: Setting an item of incompatible dtype is deprecated and will raise in a future error of pandas. Value 'Here is our forecast' has dtype incompatible with float64, please explicitly cast to a compatible dtype first.\n",
      "  result.iloc[row] = ''.join(message_words).strip()\n"
     ]
    }
   ],
   "source": [
    "df['Subject'] = get_subject(df.message)\n",
    "df['Body'] = get_message(df.message)\n"
   ]
  },
  {
   "cell_type": "code",
   "execution_count": 49,
   "metadata": {},
   "outputs": [
    {
     "name": "stdout",
     "output_type": "stream",
     "text": [
      "     Subject                                               Body\n",
      "0                                          Here is our forecast\n",
      "1        Re:  Traveling to have a business meeting takes the...\n",
      "2   Re: test                     test successful.  way to go!!!\n",
      "3             Randy, Can you send me a schedule of the salar...\n",
      "4  Re: Hello                  Let's shoot for Tuesday at 11:45.\n"
     ]
    }
   ],
   "source": [
    "df = df.drop(['message', 'file'], axis = 1)\n",
    "print(df.head(5))"
   ]
  },
  {
   "cell_type": "code",
   "execution_count": 50,
   "metadata": {},
   "outputs": [
    {
     "name": "stdout",
     "output_type": "stream",
     "text": [
      "                                             Subject  \\\n",
      "0  ®Review your shipment details / Shipment Notif...   \n",
      "1                            Υоur ассоunt іѕ оn hоld   \n",
      "2  Completed: Invoice # KZ89TYS2564 from-Bestbuy....   \n",
      "3                             UVic IMPORTANT NOTICE!   \n",
      "4          You have (6) Suspended incoming messages    \n",
      "\n",
      "                                                Body  \n",
      "0  Notice: This message was sent from outside the...  \n",
      "1  \\r\\nVotre réponse a bien été prise en compte.\\...  \n",
      "2  Notice: This message was sent from outside the...  \n",
      "3  Your UVIC account has been filed under the lis...  \n",
      "4  \\r\\n\\r\\nMessage generated from  uvic.ca source...  \n"
     ]
    }
   ],
   "source": [
    "df2 = df2.drop(['Unnamed: 2', 'Unnamed: 3'], axis = 1)\n",
    "print(df2.head(5))"
   ]
  },
  {
   "cell_type": "code",
   "execution_count": 52,
   "metadata": {},
   "outputs": [
    {
     "name": "stdout",
     "output_type": "stream",
     "text": [
      "     Subject                                               Body  Result\n",
      "0                                          Here is our forecast       0\n",
      "1        Re:  Traveling to have a business meeting takes the...       0\n",
      "2   Re: test                     test successful.  way to go!!!       0\n",
      "3             Randy, Can you send me a schedule of the salar...       0\n",
      "4  Re: Hello                  Let's shoot for Tuesday at 11:45.       0\n",
      "                                             Subject  \\\n",
      "0  ®Review your shipment details / Shipment Notif...   \n",
      "1                            Υоur ассоunt іѕ оn hоld   \n",
      "2  Completed: Invoice # KZ89TYS2564 from-Bestbuy....   \n",
      "3                             UVic IMPORTANT NOTICE!   \n",
      "4          You have (6) Suspended incoming messages    \n",
      "\n",
      "                                                Body  Result  \n",
      "0  Notice: This message was sent from outside the...       1  \n",
      "1  \\r\\nVotre réponse a bien été prise en compte.\\...       1  \n",
      "2  Notice: This message was sent from outside the...       1  \n",
      "3  Your UVIC account has been filed under the lis...       1  \n",
      "4  \\r\\n\\r\\nMessage generated from  uvic.ca source...       1  \n"
     ]
    }
   ],
   "source": [
    "df['Result'] = 0\n",
    "df2['Result'] = 1\n",
    "print(df.head(5))\n",
    "print(df2.head(5))"
   ]
  },
  {
   "cell_type": "code",
   "execution_count": 53,
   "metadata": {},
   "outputs": [
    {
     "name": "stdout",
     "output_type": "stream",
     "text": [
      "                                                  Subject  \\\n",
      "0                                                           \n",
      "1                                                     Re:   \n",
      "2                                                Re: test   \n",
      "3                                                           \n",
      "4                                               Re: Hello   \n",
      "...                                                   ...   \n",
      "519972  Update needed (5) inbox messages Pending befor...   \n",
      "519973  Update needed (5) inbox messages Pending befor...   \n",
      "519974                            Re: All Staff/Employee,   \n",
      "519975                                Notification Update   \n",
      "519976                         Account_Alert! API_upgrade   \n",
      "\n",
      "                                                     Body  Result  \n",
      "0                                    Here is our forecast       0  \n",
      "1       Traveling to have a business meeting takes the...       0  \n",
      "2                          test successful.  way to go!!!       0  \n",
      "3       Randy, Can you send me a schedule of the salar...       0  \n",
      "4                       Let's shoot for Tuesday at 11:45.       0  \n",
      "...                                                   ...     ...  \n",
      "519972  \\r\\n\\r\\n\\r\\n\\r\\n\\r\\n\\r\\nlawfa@uvic.ca\\r\\n\\r\\nP...       1  \n",
      "519973  \\r\\n\\r\\n\\r\\n\\r\\n\\r\\n\\r\\nlawfa@uvic.ca\\r\\n\\r\\nP...       1  \n",
      "519974  \\r\\nAll Staff/Employee,\\r\\n\\r\\n\\r\\n\\r\\nAs COVI...       1  \n",
      "519975  Notice: This message was sent from outside the...       1  \n",
      "519976  Esteem User,\\r\\n\\r\\n\\r\\nWe have officially lau...       1  \n",
      "\n",
      "[519977 rows x 3 columns]\n"
     ]
    }
   ],
   "source": [
    "merged_df = pd.concat([df, df2], ignore_index=True)\n",
    "print(merged_df)"
   ]
  }
 ],
 "metadata": {
  "kernelspec": {
   "display_name": "base",
   "language": "python",
   "name": "python3"
  },
  "language_info": {
   "codemirror_mode": {
    "name": "ipython",
    "version": 3
   },
   "file_extension": ".py",
   "mimetype": "text/x-python",
   "name": "python",
   "nbconvert_exporter": "python",
   "pygments_lexer": "ipython3",
   "version": "3.11.7"
  }
 },
 "nbformat": 4,
 "nbformat_minor": 2
}
