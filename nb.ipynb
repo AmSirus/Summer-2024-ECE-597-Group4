{
 "cells": [
  {
   "cell_type": "code",
   "execution_count": 2,
   "id": "cfa26be7-aa1a-4e1c-acad-bbbf0e010d19",
   "metadata": {},
   "outputs": [
    {
     "name": "stdout",
     "output_type": "stream",
     "text": [
      "Text Features:\n",
      "0                                                  forecast\n",
      "1         traveling business meeting take fun trip espec...\n",
      "2                               test test successful way go\n",
      "3         randy send schedule salary level everyone sche...\n",
      "4                                   hello let shoot tuesday\n",
      "                                ...                        \n",
      "519972    update needed inbox message pending get delete...\n",
      "519973    update needed inbox message pending get delete...\n",
      "519974    staffemployee staffemployee covid vaccine test...\n",
      "519975    notification update notice message sent outsid...\n",
      "519976    accountalert apiupgrade esteem user officially...\n",
      "Name: Text, Length: 519977, dtype: object\n",
      "\n",
      "Target (Result):\n",
      "0         0\n",
      "1         0\n",
      "2         0\n",
      "3         0\n",
      "4         0\n",
      "         ..\n",
      "519972    1\n",
      "519973    1\n",
      "519974    1\n",
      "519975    1\n",
      "519976    1\n",
      "Name: Result, Length: 519977, dtype: int64\n"
     ]
    }
   ],
   "source": [
    "# -*- coding: utf-8 -*-\n",
    "import pandas as pd\n",
    "from sklearn.model_selection import train_test_split, GridSearchCV\n",
    "from sklearn.naive_bayes import MultinomialNB\n",
    "from sklearn.metrics import classification_report, confusion_matrix, roc_auc_score\n",
    "from imblearn.over_sampling import SMOTE\n",
    "from sklearn.feature_extraction.text import CountVectorizer, TfidfVectorizer\n",
    "from sklearn.pipeline import Pipeline\n",
    "# 指定文件路径\n",
    "file_path = '/Users/apple/Downloads/final_df.csv'\n",
    "\n",
    "data = pd.read_csv(file_path)\n",
    "X = data['Text']\n",
    "y = data['Result']\n",
    "\n",
    "print(\"Text Features:\")\n",
    "print(X)\n",
    "print(\"\\nTarget (Result):\")\n",
    "print(y)\n",
    "\n"
   ]
  },
  {
   "cell_type": "code",
   "execution_count": null,
   "id": "272d44cd-643d-4e34-b0d0-74ef531e5050",
   "metadata": {},
   "outputs": [],
   "source": []
  }
 ],
 "metadata": {
  "kernelspec": {
   "display_name": "Python 3 (ipykernel)",
   "language": "python",
   "name": "python3"
  },
  "language_info": {
   "codemirror_mode": {
    "name": "ipython",
    "version": 3
   },
   "file_extension": ".py",
   "mimetype": "text/x-python",
   "name": "python",
   "nbconvert_exporter": "python",
   "pygments_lexer": "ipython3",
   "version": "3.12.4"
  }
 },
 "nbformat": 4,
 "nbformat_minor": 5
}
